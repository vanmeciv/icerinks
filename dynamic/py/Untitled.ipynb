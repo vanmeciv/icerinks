{
 "cells": [
  {
   "cell_type": "code",
   "execution_count": 1,
   "metadata": {},
   "outputs": [
    {
     "ename": "ModuleNotFoundError",
     "evalue": "No module named 'nhlscrapi'",
     "output_type": "error",
     "traceback": [
      "\u001b[1;31m---------------------------------------------------------------------------\u001b[0m",
      "\u001b[1;31mModuleNotFoundError\u001b[0m                       Traceback (most recent call last)",
      "\u001b[1;32m<ipython-input-1-905c132ce91d>\u001b[0m in \u001b[0;36m<module>\u001b[1;34m\u001b[0m\n\u001b[1;32m----> 1\u001b[1;33m \u001b[1;32mfrom\u001b[0m \u001b[0mnhlscrapi\u001b[0m\u001b[1;33m.\u001b[0m\u001b[0mgames\u001b[0m\u001b[1;33m.\u001b[0m\u001b[0mgame\u001b[0m \u001b[1;32mimport\u001b[0m \u001b[0mGame\u001b[0m\u001b[1;33m,\u001b[0m \u001b[0mGameKey\u001b[0m\u001b[1;33m,\u001b[0m \u001b[0mGameType\u001b[0m\u001b[1;33m\u001b[0m\u001b[1;33m\u001b[0m\u001b[0m\n\u001b[0m\u001b[0;32m      2\u001b[0m \u001b[1;32mfrom\u001b[0m \u001b[0mnhlscrapi\u001b[0m\u001b[1;33m.\u001b[0m\u001b[0mgames\u001b[0m\u001b[1;33m.\u001b[0m\u001b[0mcumstats\u001b[0m \u001b[1;32mimport\u001b[0m \u001b[0mScore\u001b[0m\u001b[1;33m,\u001b[0m \u001b[0mShotCt\u001b[0m\u001b[1;33m,\u001b[0m \u001b[0mCorsi\u001b[0m\u001b[1;33m,\u001b[0m \u001b[0mFenwick\u001b[0m\u001b[1;33m\u001b[0m\u001b[1;33m\u001b[0m\u001b[0m\n\u001b[0;32m      3\u001b[0m \u001b[1;33m\u001b[0m\u001b[0m\n\u001b[0;32m      4\u001b[0m \u001b[0mseason\u001b[0m \u001b[1;33m=\u001b[0m \u001b[1;36m2014\u001b[0m                                    \u001b[1;31m# 2013-2014 season\u001b[0m\u001b[1;33m\u001b[0m\u001b[1;33m\u001b[0m\u001b[0m\n\u001b[0;32m      5\u001b[0m \u001b[0mgame_num\u001b[0m \u001b[1;33m=\u001b[0m \u001b[1;36m1226\u001b[0m                                  \u001b[1;31m#\u001b[0m\u001b[1;33m\u001b[0m\u001b[1;33m\u001b[0m\u001b[0m\n",
      "\u001b[1;31mModuleNotFoundError\u001b[0m: No module named 'nhlscrapi'"
     ]
    }
   ],
   "source": [
    "from nhlscrapi.games.game import Game, GameKey, GameType\n",
    "from nhlscrapi.games.cumstats import Score, ShotCt, Corsi, Fenwick\n",
    "\n",
    "season = 2014                                    # 2013-2014 season\n",
    "game_num = 1226                                  #\n",
    "game_type = GameType.Regular                     # regular season game\n",
    "game_key = GameKey(season, game_type, game_num)\n",
    "\n",
    "# define stat types that will be counted as the plays are parsed\n",
    "cum_stats = {\n",
    "  'Score': Score(),\n",
    "  'Shots': ShotCt(),\n",
    "  'Corsi': Corsi(),\n",
    "  'Fenwick': Fenwick()\n",
    "}\n",
    "game = Game(game_key, cum_stats=cum_stats)\n",
    "\n",
    "# also http requests and processing are lazy\n",
    "# accumulators require play by play info so they parse the RTSS PBP\n",
    "print('Final         : {}'.format(game.cum_stats['Score'].total))\n",
    "print('Shootout      : {}'.format(game.cum_stats['Score'].shootout.total))\n",
    "print('Shots         : {}'.format(game.cum_stats['Shots'].total))\n",
    "print('EV Shot Atts  : {}'.format(game.cum_stats['Corsi'].total))\n",
    "print('Corsi         : {}'.format(game.cum_stats['Corsi'].share()))\n",
    "print('FW Shot Atts  : {}'.format(game.cum_stats['Fenwick'].total))\n",
    "print('Fenwick       : {}'.format(game.cum_stats['Fenwick'].share()))\n",
    "\n",
    "# http req for roster report\n",
    "# only parses the sections related to officials and coaches\n",
    "print('\\nRefs          : {}'.format(game.refs))\n",
    "print('Linesman      : {}'.format(game.linesman))\n",
    "print('Coaches')\n",
    "print('  Home        : {}'.format(game.home_coach))\n",
    "print('  Away        : {}'.format(game.away_coach))\n",
    "\n",
    "# scrape all remaining reports\n",
    "game.load_all()"
   ]
  },
  {
   "cell_type": "code",
   "execution_count": null,
   "metadata": {},
   "outputs": [],
   "source": []
  }
 ],
 "metadata": {
  "kernelspec": {
   "display_name": "Python 3",
   "language": "python",
   "name": "python3"
  },
  "language_info": {
   "codemirror_mode": {
    "name": "ipython",
    "version": 3
   },
   "file_extension": ".py",
   "mimetype": "text/x-python",
   "name": "python",
   "nbconvert_exporter": "python",
   "pygments_lexer": "ipython3",
   "version": "3.6.9"
  }
 },
 "nbformat": 4,
 "nbformat_minor": 4
}
